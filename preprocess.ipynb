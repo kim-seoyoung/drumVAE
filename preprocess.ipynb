{
 "cells": [
  {
   "cell_type": "code",
   "execution_count": null,
   "metadata": {},
   "outputs": [],
   "source": [
    "import os\n",
    "import pickle\n",
    "import sparse\n",
    "# import librosa\n",
    "import mir_eval\n",
    "import fluidsynth\n",
    "import pretty_midi\n",
    "import numpy as np\n",
    "import IPython.display\n",
    "\n",
    "from glob import glob\n",
    "from utils.drum_utils import *\n",
    "from utils.common_utils import *\n",
    "\n",
    "%load_ext autoreload\n",
    "%autoreload 2"
   ]
  },
  {
   "cell_type": "markdown",
   "metadata": {},
   "source": [
    "### Preprocessing"
   ]
  },
  {
   "cell_type": "code",
   "execution_count": null,
   "metadata": {},
   "outputs": [],
   "source": [
    "data = []\n",
    "count = 0 # num of bars\n",
    "data_path = '../drumVAE/data/drummer1'\n",
    "save_path = 'midi_data.pkl'"
   ]
  },
  {
   "cell_type": "code",
   "execution_count": null,
   "metadata": {},
   "outputs": [],
   "source": [
    "for dir_path in glob(data_path+'/session*'):\n",
    "    for file_path in glob(dir_path+'/*.mid'):\n",
    "        try:\n",
    "            pm = pretty_midi.PrettyMIDI(file_path)\n",
    "\n",
    "            # time signature 4/4 check\n",
    "            if not check_time_sign(pm, num=4, denom=4): \n",
    "                continue\n",
    "\n",
    "            start_time = pm.get_onsets()[0]\n",
    "            beats = pm.get_beats(start_time) #beat location in second\n",
    "            tempo = pm.estimate_tempo()#bpm\n",
    "            fs = change_fs(beats)\n",
    "\n",
    "            # for each inst\n",
    "            for inst in pm.instruments:\n",
    "        #         print(inst.notes)\n",
    "                if inst.is_drum == True:\n",
    "                    drum_roll = quantize_drum(inst, fs, start_time)\n",
    "                    drum_roll = windowing(drum_roll) #64 / 16 = 4 measure\n",
    "                    drum_roll = hot_encoding(drum_roll)\n",
    "\n",
    "                    for i in range(0, drum_roll.shape[0]):\n",
    "                        # to reduce size of data, sparse encoding\n",
    "                        data.append(sparse.COO(drum_roll[i]))\n",
    "        except:\n",
    "            continue\n",
    "\n",
    "        # verbose\n",
    "        count += 1\n",
    "        if count % 100 == 0:\n",
    "            print('Files iterations %d' % count)"
   ]
  },
  {
   "cell_type": "code",
   "execution_count": null,
   "metadata": {},
   "outputs": [],
   "source": [
    "len(data)"
   ]
  },
  {
   "cell_type": "code",
   "execution_count": null,
   "metadata": {},
   "outputs": [],
   "source": [
    "# play music example\n",
    "fs = 10\n",
    "pm = drum_play(data[10].todense().astype('float32'), fs)\n",
    "IPython.display.Audio(pm.fluidsynth(fs=16000), rate=16000)"
   ]
  },
  {
   "cell_type": "code",
   "execution_count": null,
   "metadata": {},
   "outputs": [],
   "source": [
    "# save pickle\n",
    "with open(save_path, 'wb') as f:\n",
    "    print('File saved!')\n",
    "    pickle.dump(data, f, protocol=pickle.HIGHEST_PROTOCOL)\n",
    "\n",
    "# laod pickle\n",
    "with open(save_path, 'rb') as f:\n",
    "    a = pickle.load(f)"
   ]
  },
  {
   "cell_type": "code",
   "execution_count": null,
   "metadata": {},
   "outputs": [],
   "source": []
  }
 ],
 "metadata": {
  "kernelspec": {
   "display_name": "Python 3 (ipykernel)",
   "language": "python",
   "name": "python3"
  },
  "language_info": {
   "codemirror_mode": {
    "name": "ipython",
    "version": 3
   },
   "file_extension": ".py",
   "mimetype": "text/x-python",
   "name": "python",
   "nbconvert_exporter": "python",
   "pygments_lexer": "ipython3",
   "version": "3.8.10"
  }
 },
 "nbformat": 4,
 "nbformat_minor": 4
}
